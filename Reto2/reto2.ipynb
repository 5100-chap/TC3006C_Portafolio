{
 "cells": [
  {
   "cell_type": "markdown",
   "metadata": {},
   "source": [
    "# Momento de Retroalimentación: Módulo 2 Uso de framework o biblioteca de aprendizaje máquina para la implementación de una solución.\n",
    "## Uso de regresion lineal con scikit-learn\n",
    "\n",
    "#### *Diego Alberto Baños Lopez*\n",
    "#### *A01275100*\n",
    "\n"
   ]
  },
  {
   "cell_type": "markdown",
   "metadata": {},
   "source": [
    "## Introducción\n",
    "\n",
    "En este notebook se busca aplicar librerias en python que ayude a facilitar la modelacion del dataset a usar\n"
   ]
  },
  {
   "cell_type": "markdown",
   "metadata": {},
   "source": [
    "## Parte 1: Importacion de librerias y leer el dataset\n",
    "Para ello se requiere que primeramente leamos las librerias necesarias y una vez realizado ello se guarda el dataset como data\n"
   ]
  },
  {
   "cell_type": "code",
   "execution_count": 18,
   "metadata": {},
   "outputs": [
    {
     "data": {
      "text/html": [
       "<div>\n",
       "<style scoped>\n",
       "    .dataframe tbody tr th:only-of-type {\n",
       "        vertical-align: middle;\n",
       "    }\n",
       "\n",
       "    .dataframe tbody tr th {\n",
       "        vertical-align: top;\n",
       "    }\n",
       "\n",
       "    .dataframe thead th {\n",
       "        text-align: right;\n",
       "    }\n",
       "</style>\n",
       "<table border=\"1\" class=\"dataframe\">\n",
       "  <thead>\n",
       "    <tr style=\"text-align: right;\">\n",
       "      <th></th>\n",
       "      <th>Temperature</th>\n",
       "      <th>Revenue</th>\n",
       "    </tr>\n",
       "  </thead>\n",
       "  <tbody>\n",
       "    <tr>\n",
       "      <th>0</th>\n",
       "      <td>24.566884</td>\n",
       "      <td>534.799028</td>\n",
       "    </tr>\n",
       "    <tr>\n",
       "      <th>1</th>\n",
       "      <td>26.005191</td>\n",
       "      <td>625.190122</td>\n",
       "    </tr>\n",
       "    <tr>\n",
       "      <th>2</th>\n",
       "      <td>27.790554</td>\n",
       "      <td>660.632289</td>\n",
       "    </tr>\n",
       "    <tr>\n",
       "      <th>3</th>\n",
       "      <td>20.595335</td>\n",
       "      <td>487.706960</td>\n",
       "    </tr>\n",
       "    <tr>\n",
       "      <th>4</th>\n",
       "      <td>11.503498</td>\n",
       "      <td>316.240194</td>\n",
       "    </tr>\n",
       "    <tr>\n",
       "      <th>5</th>\n",
       "      <td>14.352514</td>\n",
       "      <td>367.940744</td>\n",
       "    </tr>\n",
       "    <tr>\n",
       "      <th>6</th>\n",
       "      <td>13.707780</td>\n",
       "      <td>308.894518</td>\n",
       "    </tr>\n",
       "    <tr>\n",
       "      <th>7</th>\n",
       "      <td>30.833985</td>\n",
       "      <td>696.716640</td>\n",
       "    </tr>\n",
       "    <tr>\n",
       "      <th>8</th>\n",
       "      <td>0.976870</td>\n",
       "      <td>55.390338</td>\n",
       "    </tr>\n",
       "    <tr>\n",
       "      <th>9</th>\n",
       "      <td>31.669465</td>\n",
       "      <td>737.800824</td>\n",
       "    </tr>\n",
       "  </tbody>\n",
       "</table>\n",
       "</div>"
      ],
      "text/plain": [
       "   Temperature     Revenue\n",
       "0    24.566884  534.799028\n",
       "1    26.005191  625.190122\n",
       "2    27.790554  660.632289\n",
       "3    20.595335  487.706960\n",
       "4    11.503498  316.240194\n",
       "5    14.352514  367.940744\n",
       "6    13.707780  308.894518\n",
       "7    30.833985  696.716640\n",
       "8     0.976870   55.390338\n",
       "9    31.669465  737.800824"
      ]
     },
     "execution_count": 18,
     "metadata": {},
     "output_type": "execute_result"
    }
   ],
   "source": [
    "# En caso de no tener instalado alguna libreria favor de descomentar la siguiente linea de codigo\n",
    "# !pip install -U pandas\n",
    "# !pip install -U seaborn\n",
    "# !pip install -U matplotlib\n",
    "# !pip install -U scikit-learn\n",
    "# Pandas es usado para importar el CSV\n",
    "import pandas as pd\n",
    "import seaborn as sns\n",
    "import matplotlib.pyplot as plt\n",
    "%matplotlib inline\n",
    "import sklearn\n",
    "from sklearn.model_selection import train_test_split\n",
    "from sklearn.metrics import mean_squared_error, r2_score\n",
    "from sklearn.linear_model import LinearRegression\n",
    "# El dataset a usar se llama Ice Cream Revenue\n",
    "# Los datos se pueden obtener de https://www.kaggle.com/datasets/vinicius150987/ice-cream-revenue\n",
    "data = pd.read_csv(\"./IceCreamData.csv\")\n",
    "data.head(10)"
   ]
  },
  {
   "cell_type": "markdown",
   "metadata": {},
   "source": [
    "El dataset \"IceCreamData.csv\" contiene dos columnas:\n",
    "\n",
    "1. **Temperature**: Representa la temperatura.\n",
    "2. **Revenue**: Representa los ingresos obtenidos.\n",
    "\n",
    "Dado que estamos tratando con un conjunto de datos que tiene una variable independiente (temperatura) y una variable dependiente (ingresos), se puede abordar la prediccción de los ingresos en base a la temperatura a tráves de regresión linea"
   ]
  },
  {
   "cell_type": "markdown",
   "metadata": {},
   "source": [
    "## Parte 2: División de datos en train y test\n",
    "Esto trata de dividir el dataset en dos, uno de entrenamiento y otro de verificación, se hace con el objetivo de verificar si realmente se esta entrenando el modelo de forma correcta y no estamos cayendo en overfitting o underfitting"
   ]
  },
  {
   "cell_type": "code",
   "execution_count": 19,
   "metadata": {},
   "outputs": [
    {
     "data": {
      "text/plain": [
       "(     Temperature\n",
       " 249    18.148952\n",
       " 433     8.756004\n",
       " 19     21.775948\n",
       " 322    18.439982\n",
       " 332    15.843022,\n",
       " 249    473.568112\n",
       " 433    246.787161\n",
       " 19     534.622865\n",
       " 322    463.480508\n",
       " 332    379.564268\n",
       " Name: Revenue, dtype: float64)"
      ]
     },
     "execution_count": 19,
     "metadata": {},
     "output_type": "execute_result"
    }
   ],
   "source": [
    "# Variable Independiente\n",
    "X = data[['Temperature']]\n",
    "# Variable Dependiente\n",
    "y = data['Revenue'] \n",
    "# División del dataframe\n",
    "X_train, X_test, y_train, y_test = train_test_split(X, y, test_size=0.2, random_state=42)\n",
    "X_train.head(), y_train.head()"
   ]
  },
  {
   "cell_type": "markdown",
   "metadata": {},
   "source": [
    "## Parte 3: Entrenamiento del Modelo con Parámetros por Defecto\n",
    "\n",
    "En esta parte usaremos las librerias de Scikit-learn para realizar nuestro modelado de regresión lineal, en este caso se realizará primero como viene por defecto"
   ]
  },
  {
   "cell_type": "code",
   "execution_count": 20,
   "metadata": {},
   "outputs": [
    {
     "data": {
      "text/plain": [
       "(616.5053542324285, 0.9802510145652878, 652.5200612979733, 0.9771532792713993)"
      ]
     },
     "execution_count": 20,
     "metadata": {},
     "output_type": "execute_result"
    }
   ],
   "source": [
    "model = LinearRegression()\n",
    "model.fit(X_train, y_train)\n",
    "\n",
    "train_predictions = model.predict(X_train)\n",
    "test_predictions = model.predict(X_test)\n",
    "\n",
    "train_mse = mean_squared_error(y_train, train_predictions)\n",
    "train_r2 = r2_score(y_train, train_predictions)\n",
    "\n",
    "test_mse = mean_squared_error(y_test, test_predictions)\n",
    "test_r2 = r2_score(y_test, test_predictions)\n",
    "\n",
    "train_mse, train_r2, test_mse, test_r2\n"
   ]
  },
  {
   "cell_type": "markdown",
   "metadata": {},
   "source": [
    "## Predicciones del modelo\n",
    "\n",
    "Aqui se intenta predecir usando el modelo y se compara con los datos reales para ver como se comporta y ver que tanto difiere el modelo con los datos reales"
   ]
  },
  {
   "cell_type": "code",
   "execution_count": 22,
   "metadata": {},
   "outputs": [
    {
     "data": {
      "text/html": [
       "<div>\n",
       "<style scoped>\n",
       "    .dataframe tbody tr th:only-of-type {\n",
       "        vertical-align: middle;\n",
       "    }\n",
       "\n",
       "    .dataframe tbody tr th {\n",
       "        vertical-align: top;\n",
       "    }\n",
       "\n",
       "    .dataframe thead th {\n",
       "        text-align: right;\n",
       "    }\n",
       "</style>\n",
       "<table border=\"1\" class=\"dataframe\">\n",
       "  <thead>\n",
       "    <tr style=\"text-align: right;\">\n",
       "      <th></th>\n",
       "      <th>Real Revenue</th>\n",
       "      <th>Predicted Revenue</th>\n",
       "    </tr>\n",
       "  </thead>\n",
       "  <tbody>\n",
       "    <tr>\n",
       "      <th>361</th>\n",
       "      <td>659.873287</td>\n",
       "      <td>681.938706</td>\n",
       "    </tr>\n",
       "    <tr>\n",
       "      <th>73</th>\n",
       "      <td>623.248701</td>\n",
       "      <td>632.144750</td>\n",
       "    </tr>\n",
       "    <tr>\n",
       "      <th>374</th>\n",
       "      <td>559.135869</td>\n",
       "      <td>559.643605</td>\n",
       "    </tr>\n",
       "  </tbody>\n",
       "</table>\n",
       "</div>"
      ],
      "text/plain": [
       "     Real Revenue  Predicted Revenue\n",
       "361    659.873287         681.938706\n",
       "73     623.248701         632.144750\n",
       "374    559.135869         559.643605"
      ]
     },
     "execution_count": 22,
     "metadata": {},
     "output_type": "execute_result"
    }
   ],
   "source": [
    "sample_data = X_test.iloc[:3]\n",
    "real_values = y_test.iloc[:3]\n",
    "predicted_values = model.predict(sample_data)\n",
    "\n",
    "predictions_comparison = pd.DataFrame({\n",
    "    'Real Revenue': real_values,\n",
    "    'Predicted Revenue': predicted_values\n",
    "})\n",
    "\n",
    "predictions_comparison"
   ]
  }
 ],
 "metadata": {
  "kernelspec": {
   "display_name": "Python 3",
   "language": "python",
   "name": "python3"
  },
  "language_info": {
   "codemirror_mode": {
    "name": "ipython",
    "version": 3
   },
   "file_extension": ".py",
   "mimetype": "text/x-python",
   "name": "python",
   "nbconvert_exporter": "python",
   "pygments_lexer": "ipython3",
   "version": "3.11.3"
  },
  "orig_nbformat": 4
 },
 "nbformat": 4,
 "nbformat_minor": 2
}
