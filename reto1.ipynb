{
 "cells": [
  {
   "cell_type": "markdown",
   "metadata": {},
   "source": [
    "# Momento de Retroalimentación: Módulo 2 Implementación de una técnica de aprendizaje máquina sin el uso de un framework.\n",
    "## Uso de regresion lineal\n",
    "\n",
    "#### *Diego Alberto Baños Lopez*\n",
    "#### *A01275100*\n",
    "\n"
   ]
  },
  {
   "cell_type": "markdown",
   "metadata": {},
   "source": [
    "## Introducción\n",
    "\n",
    "En este notebook se busca aplicar el concepto del algoritmo de regresion lineal con gradiente descendiente y ver como funcionan en un set de datos\n"
   ]
  },
  {
   "cell_type": "markdown",
   "metadata": {},
   "source": [
    "## Parte 1: Lectura de datos en CSV\n",
    "Para ello se requiere que leamos los datos y los almacenemos en una variable\n"
   ]
  },
  {
   "cell_type": "code",
   "execution_count": 153,
   "metadata": {},
   "outputs": [
    {
     "data": {
      "text/html": [
       "<div>\n",
       "<style scoped>\n",
       "    .dataframe tbody tr th:only-of-type {\n",
       "        vertical-align: middle;\n",
       "    }\n",
       "\n",
       "    .dataframe tbody tr th {\n",
       "        vertical-align: top;\n",
       "    }\n",
       "\n",
       "    .dataframe thead th {\n",
       "        text-align: right;\n",
       "    }\n",
       "</style>\n",
       "<table border=\"1\" class=\"dataframe\">\n",
       "  <thead>\n",
       "    <tr style=\"text-align: right;\">\n",
       "      <th></th>\n",
       "      <th>Temperature</th>\n",
       "      <th>Revenue</th>\n",
       "    </tr>\n",
       "  </thead>\n",
       "  <tbody>\n",
       "    <tr>\n",
       "      <th>0</th>\n",
       "      <td>24.566884</td>\n",
       "      <td>534.799028</td>\n",
       "    </tr>\n",
       "    <tr>\n",
       "      <th>1</th>\n",
       "      <td>26.005191</td>\n",
       "      <td>625.190122</td>\n",
       "    </tr>\n",
       "    <tr>\n",
       "      <th>2</th>\n",
       "      <td>27.790554</td>\n",
       "      <td>660.632289</td>\n",
       "    </tr>\n",
       "    <tr>\n",
       "      <th>3</th>\n",
       "      <td>20.595335</td>\n",
       "      <td>487.706960</td>\n",
       "    </tr>\n",
       "    <tr>\n",
       "      <th>4</th>\n",
       "      <td>11.503498</td>\n",
       "      <td>316.240194</td>\n",
       "    </tr>\n",
       "    <tr>\n",
       "      <th>...</th>\n",
       "      <td>...</td>\n",
       "      <td>...</td>\n",
       "    </tr>\n",
       "    <tr>\n",
       "      <th>495</th>\n",
       "      <td>22.274899</td>\n",
       "      <td>524.746364</td>\n",
       "    </tr>\n",
       "    <tr>\n",
       "      <th>496</th>\n",
       "      <td>32.893092</td>\n",
       "      <td>755.818399</td>\n",
       "    </tr>\n",
       "    <tr>\n",
       "      <th>497</th>\n",
       "      <td>12.588157</td>\n",
       "      <td>306.090719</td>\n",
       "    </tr>\n",
       "    <tr>\n",
       "      <th>498</th>\n",
       "      <td>22.362402</td>\n",
       "      <td>566.217304</td>\n",
       "    </tr>\n",
       "    <tr>\n",
       "      <th>499</th>\n",
       "      <td>28.957736</td>\n",
       "      <td>655.660388</td>\n",
       "    </tr>\n",
       "  </tbody>\n",
       "</table>\n",
       "<p>500 rows × 2 columns</p>\n",
       "</div>"
      ],
      "text/plain": [
       "     Temperature     Revenue\n",
       "0      24.566884  534.799028\n",
       "1      26.005191  625.190122\n",
       "2      27.790554  660.632289\n",
       "3      20.595335  487.706960\n",
       "4      11.503498  316.240194\n",
       "..           ...         ...\n",
       "495    22.274899  524.746364\n",
       "496    32.893092  755.818399\n",
       "497    12.588157  306.090719\n",
       "498    22.362402  566.217304\n",
       "499    28.957736  655.660388\n",
       "\n",
       "[500 rows x 2 columns]"
      ]
     },
     "execution_count": 153,
     "metadata": {},
     "output_type": "execute_result"
    }
   ],
   "source": [
    "# En caso de no tener instalado Pandas o numba favor de descomentar la siguiente linea de codigo\n",
    "# !pip install -U pandas\n",
    "# Pandas es usado para importar el CSV\n",
    "import pandas as pd\n",
    "\n",
    "# Los datos se pueden obtener de https://www.kaggle.com/datasets/athiramolps/ice-cream-sales-and-temperature\n",
    "data = pd.read_csv(\"./IceCreamData.csv\")\n",
    "data"
   ]
  },
  {
   "cell_type": "markdown",
   "metadata": {},
   "source": [
    "## Parte 2: Declaracion de variables iniciales\n",
    "\n",
    "Aqui para trabajar de una forma mas sencilla empezamos a declarar las variables dependientes e independientes de nuestros datos, asi como la declaración del learning rate (alpha) y de nuestros hiperparametros iniciales. (thetas), de igual forma como estamos usando el metodo de gradiente descendiente declararemos el numero de iteraciones que se realizaran para el modelo."
   ]
  },
  {
   "cell_type": "code",
   "execution_count": 154,
   "metadata": {},
   "outputs": [],
   "source": [
    "# Variables independientes\n",
    "x = data[\"Temperature\"]\n",
    "# Variables dependientes\n",
    "y = data[\"Revenue\"]\n",
    "theta = [0, 0]\n",
    "alpha = 0.001\n",
    "num_iteraciones = 1000"
   ]
  },
  {
   "cell_type": "markdown",
   "metadata": {},
   "source": [
    "## Parte 3: Funciones para la regresión\n",
    "Aqui empezamos a declarar las funciones a utilizar en este problema, en este primer caso se requiere declarar lo siguiente\n",
    "### Funcion lambda\n",
    "Esta función definida como $h(x_i)=\\theta_0 + \\theta_1x_i$ nos ayudara a medir la relacion entre las variables a analizar, o sea estimar el valor para un dato dado $(𝑥_i)$\n",
    "\n"
   ]
  },
  {
   "cell_type": "code",
   "execution_count": 155,
   "metadata": {},
   "outputs": [],
   "source": [
    "# Función lambda para la función de hipótesis\n",
    "h = lambda theta, x: theta[0] + theta[1] * x"
   ]
  },
  {
   "cell_type": "markdown",
   "metadata": {},
   "source": [
    "## Parte 4: Calculos e iteraciones\n",
    "A partir de este punto se empezara a calcular a partir de iteraciones controladas por un ciclo for el valor de la derivada de la función de costo (Recordando que la formula de la función de costo es $J(\\theta) = \\frac{1}{2n} \\sum_{i=1}^{n} (h_\\theta(x^{(i)}) - y^{(i)})^2$), que se obtiene a partir de los datos estimados, $h_\\theta(x_i)$, y reales, $y_i$:\n",
    "\n",
    "$\\frac{∂J_{θ}}{∂θ_0} = \\frac{1}{n}\\sum_{i=1}^{n}(h_θ(x_i)-y_i)$\n",
    "\n",
    "$\\frac{∂J_{θ}}{∂θ_1} = \\frac{1}{n}\\sum_{i=1}^{n}(h_θ(x_i)-y_i)x_i$\n",
    "\n",
    "Ademas de actualizar el valor de los hiper-parámetros, recordando que $\\theta_j=\\theta_j-\\alpha \\frac{∂J_{θ}}{∂θ_j}$:"
   ]
  },
  {
   "cell_type": "code",
   "execution_count": 156,
   "metadata": {},
   "outputs": [],
   "source": [
    "# Calcular el total de muestras a partir de los datos (n)\n",
    "n = len(x)\n",
    "for _ in range(num_iteraciones):\n",
    "    # Calcular delta para theta0 y para cada muestra\n",
    "    delta_theta0 = [h(theta, x[i]) - y[i] for i in range(n)]\n",
    "\n",
    "    # Calcular delta para theta1 y para cada muestra\n",
    "    delta_theta1 = [(h(theta, x[i]) - y[i]) * x[i] for i in range(n)]\n",
    "\n",
    "    # Calcular sumatorias y promedio\n",
    "    sum_delta_theta0 = sum(delta_theta0) / n\n",
    "    sum_delta_theta1 = sum(delta_theta1) / n\n",
    "\n",
    "    # Actualizar theta0 y theta1\n",
    "    theta[0] = theta[0] - alpha * sum_delta_theta0\n",
    "    theta[1] = theta[1] - alpha * sum_delta_theta1"
   ]
  },
  {
   "cell_type": "markdown",
   "metadata": {},
   "source": [
    "## Parte 5: Predicciones y visualización\n",
    "En esta parte y una vez realizado la regresion necesitamos ver algunas estimaciones para verificar que el modelo corre de manera correcta."
   ]
  },
  {
   "cell_type": "code",
   "execution_count": 157,
   "metadata": {},
   "outputs": [
    {
     "name": "stdout",
     "output_type": "stream",
     "text": [
      "Estimación 1 (12 C): 281.71043637703247 USD\n",
      "Estimación 2 (32 C): 741.6307920546404 USD\n"
     ]
    }
   ],
   "source": [
    "# Estimaciones\n",
    "estimacion_12 = h(theta, 12)\n",
    "estimacion_32 = h(theta, 32)\n",
    "\n",
    "print(f\"Estimación 1 (12 C): {estimacion_12} USD\")\n",
    "print(f\"Estimación 2 (32 C): {estimacion_32} USD\")\n"
   ]
  },
  {
   "cell_type": "markdown",
   "metadata": {},
   "source": [
    "Una vez obtenido ello, observamos como se comporta el modelo realizado respecto a los datos reales con graficos"
   ]
  },
  {
   "cell_type": "code",
   "execution_count": 158,
   "metadata": {},
   "outputs": [
    {
     "data": {
      "image/png": "[encoded data removed]",
      "text/plain": [
       "<Figure size 640x480 with 1 Axes>"
      ]
     },
     "metadata": {},
     "output_type": "display_data"
    }
   ],
   "source": [
    "# Si no esta instalado matplotlib favor de descomentar esta linea de codigo:\n",
    "# !pip install matplotlib\n",
    "\n",
    "import matplotlib.pyplot as plt\n",
    "\n",
    "# Gráfica de los datos\n",
    "plt.scatter(x, y, color='blue', label='Datos reales')\n",
    "# Gráfica de la regresión lineal\n",
    "plt.plot(x, h(theta, x), color='red', label='Regresión lineal')\n",
    "plt.xlabel('Temperatura')\n",
    "plt.ylabel('Ganancia de la venta del helado')\n",
    "plt.title('Regresión lineal con gradiente descendiente')\n",
    "plt.legend()\n",
    "plt.show()"
   ]
  }
 ],
 "metadata": {
  "kernelspec": {
   "display_name": "Python 3",
   "language": "python",
   "name": "python3"
  },
  "language_info": {
   "codemirror_mode": {
    "name": "ipython",
    "version": 3
   },
   "file_extension": ".py",
   "mimetype": "text/x-python",
   "name": "python",
   "nbconvert_exporter": "python",
   "pygments_lexer": "ipython3",
   "version": "3.11.3"
  },
  "orig_nbformat": 4
 },
 "nbformat": 4,
 "nbformat_minor": 2
}
