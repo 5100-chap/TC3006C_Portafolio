{
 "cells": [
  {
   "cell_type": "markdown",
   "metadata": {},
   "source": [
    "# Evidencia 2 Implementación de una técnica de aprendizaje máquina sin el uso de un framework.\n",
    "## Uso de regresion lineal\n",
    "\n",
    "#### *Diego Alberto Baños Lopez*\n",
    "#### *A01275100*\n",
    "\n"
   ]
  },
  {
   "cell_type": "markdown",
   "metadata": {},
   "source": [
    "## Introducción\n",
    "\n",
    "En este notebook se busca aplicar el concepto del algoritmo de regresion lineal con gradiente descendiente y ver como funcionan en un set de datos.\n",
    "El dataset utilizado es 'IceCreamData.csv'. El cual se puede encontrar en [este enlace](https://www.kaggle.com/datasets/vinicius150987/ice-cream-revenue).\n"
   ]
  },
  {
   "cell_type": "markdown",
   "metadata": {},
   "source": [
    "## Parte 1: Lectura de datos en CSV y caracteristicas del Dataset\n",
    "Para ello se requiere que leamos los datos y los almacenemos en una variable\n"
   ]
  },
  {
   "cell_type": "code",
   "execution_count": 63,
   "metadata": {},
   "outputs": [
    {
     "data": {
      "text/html": [
       "<div>\n",
       "<style scoped>\n",
       "    .dataframe tbody tr th:only-of-type {\n",
       "        vertical-align: middle;\n",
       "    }\n",
       "\n",
       "    .dataframe tbody tr th {\n",
       "        vertical-align: top;\n",
       "    }\n",
       "\n",
       "    .dataframe thead th {\n",
       "        text-align: right;\n",
       "    }\n",
       "</style>\n",
       "<table border=\"1\" class=\"dataframe\">\n",
       "  <thead>\n",
       "    <tr style=\"text-align: right;\">\n",
       "      <th></th>\n",
       "      <th>Temperature</th>\n",
       "      <th>Revenue</th>\n",
       "    </tr>\n",
       "  </thead>\n",
       "  <tbody>\n",
       "    <tr>\n",
       "      <th>0</th>\n",
       "      <td>24.566884</td>\n",
       "      <td>534.799028</td>\n",
       "    </tr>\n",
       "    <tr>\n",
       "      <th>1</th>\n",
       "      <td>26.005191</td>\n",
       "      <td>625.190122</td>\n",
       "    </tr>\n",
       "    <tr>\n",
       "      <th>2</th>\n",
       "      <td>27.790554</td>\n",
       "      <td>660.632289</td>\n",
       "    </tr>\n",
       "    <tr>\n",
       "      <th>3</th>\n",
       "      <td>20.595335</td>\n",
       "      <td>487.706960</td>\n",
       "    </tr>\n",
       "    <tr>\n",
       "      <th>4</th>\n",
       "      <td>11.503498</td>\n",
       "      <td>316.240194</td>\n",
       "    </tr>\n",
       "    <tr>\n",
       "      <th>...</th>\n",
       "      <td>...</td>\n",
       "      <td>...</td>\n",
       "    </tr>\n",
       "    <tr>\n",
       "      <th>495</th>\n",
       "      <td>22.274899</td>\n",
       "      <td>524.746364</td>\n",
       "    </tr>\n",
       "    <tr>\n",
       "      <th>496</th>\n",
       "      <td>32.893092</td>\n",
       "      <td>755.818399</td>\n",
       "    </tr>\n",
       "    <tr>\n",
       "      <th>497</th>\n",
       "      <td>12.588157</td>\n",
       "      <td>306.090719</td>\n",
       "    </tr>\n",
       "    <tr>\n",
       "      <th>498</th>\n",
       "      <td>22.362402</td>\n",
       "      <td>566.217304</td>\n",
       "    </tr>\n",
       "    <tr>\n",
       "      <th>499</th>\n",
       "      <td>28.957736</td>\n",
       "      <td>655.660388</td>\n",
       "    </tr>\n",
       "  </tbody>\n",
       "</table>\n",
       "<p>500 rows × 2 columns</p>\n",
       "</div>"
      ],
      "text/plain": [
       "     Temperature     Revenue\n",
       "0      24.566884  534.799028\n",
       "1      26.005191  625.190122\n",
       "2      27.790554  660.632289\n",
       "3      20.595335  487.706960\n",
       "4      11.503498  316.240194\n",
       "..           ...         ...\n",
       "495    22.274899  524.746364\n",
       "496    32.893092  755.818399\n",
       "497    12.588157  306.090719\n",
       "498    22.362402  566.217304\n",
       "499    28.957736  655.660388\n",
       "\n",
       "[500 rows x 2 columns]"
      ]
     },
     "execution_count": 63,
     "metadata": {},
     "output_type": "execute_result"
    }
   ],
   "source": [
    "# En caso de no tener instalado alguna libreria favor de descomentar la siguiente linea de codigo\n",
    "# !pip install -U pandas\n",
    "# Pandas es usado para importar el CSV\n",
    "import pandas as pd\n",
    "\n",
    "# Los datos se pueden obtener de https://www.kaggle.com/datasets/vinicius150987/ice-cream-revenue\n",
    "data = pd.read_csv(\"./IceCreamData.csv\")\n",
    "data"
   ]
  },
  {
   "cell_type": "code",
   "execution_count": 64,
   "metadata": {},
   "outputs": [
    {
     "name": "stdout",
     "output_type": "stream",
     "text": [
      "Información del Dataset:\n",
      "\n",
      "Número de registros: 500\n",
      "Número de características: 1\n",
      "Características: Temperature, Revenue\n",
      "\n",
      "Estadísticas Descriptivas:\n",
      "       Temperature      Revenue\n",
      "count   500.000000   500.000000\n",
      "mean     22.232225   521.570777\n",
      "std       8.096388   175.404751\n",
      "min       0.000000    10.000000\n",
      "25%      17.122258   405.558681\n",
      "50%      22.392791   529.368565\n",
      "75%      27.740674   642.257922\n",
      "max      45.000000  1000.000000\n",
      "\n",
      "\n",
      "Valores Faltantes por Característica:\n",
      "Temperature: 0\n",
      "Revenue: 0\n",
      "\n",
      "\n",
      "Información de la Columna Objetivo:\n",
      "Tipo: Numérico\n",
      "Rango: (10.0, 1000.0)\n",
      "\n",
      "\n"
     ]
    }
   ],
   "source": [
    "# Caracteristicas del dataset\n",
    "data_info = {\n",
    "    \"number_of_records\": data.shape[0],\n",
    "    \"number_of_features\": data.shape[1] - 1,  # Subtracting the target column\n",
    "    \"features\": list(data.columns),\n",
    "}\n",
    "# Estadísticas descriptivas de cada característica\n",
    "descriptive_stats = data.describe()\n",
    "\n",
    "# Información sobre valores faltantes o nulos en el dataset\n",
    "missing_values = data.isnull().sum()\n",
    "\n",
    "# Si la columna objetivo es numérica, podemos obtener su rango de valores\n",
    "# Si es categórica, podemos obtener las clases únicas y su distribución\n",
    "if pd.api.types.is_numeric_dtype(data[data_info[\"features\"][-1]]):\n",
    "    target_range = (\n",
    "        data[data_info[\"features\"][-1]].min(),\n",
    "        data[data_info[\"features\"][-1]].max(),\n",
    "    )\n",
    "    target_info = {\"type\": \"numeric\", \"range\": target_range}\n",
    "else:\n",
    "    unique_classes = data[data_info[\"features\"][-1]].unique()\n",
    "    class_distribution = data[data_info[\"features\"][-1]].value_counts()\n",
    "    target_info = {\n",
    "        \"type\": \"categorical\",\n",
    "        \"unique_classes\": unique_classes,\n",
    "        \"class_distribution\": class_distribution,\n",
    "    }\n",
    "\n",
    "# Agregando la información adicional al diccionario data_info\n",
    "data_info[\"descriptive_stats\"] = descriptive_stats\n",
    "data_info[\"missing_values\"] = missing_values\n",
    "data_info[\"target_info\"] = target_info\n",
    "\n",
    "def print_data_info(data_info):\n",
    "    print(\"Información del Dataset:\\n\")\n",
    "    \n",
    "    # Imprimir información básica\n",
    "    print(f\"Número de registros: {data_info['number_of_records']}\")\n",
    "    print(f\"Número de características: {data_info['number_of_features']}\")\n",
    "    print(f\"Características: {', '.join(data_info['features'])}\\n\")\n",
    "    \n",
    "    # Imprimir estadísticas descriptivas\n",
    "    print(\"Estadísticas Descriptivas:\")\n",
    "    print(data_info['descriptive_stats'])\n",
    "    print(\"\\n\")\n",
    "    \n",
    "    # Imprimir información sobre valores faltantes\n",
    "    print(\"Valores Faltantes por Característica:\")\n",
    "    for feature, missing in data_info['missing_values'].items():\n",
    "        print(f\"{feature}: {missing}\")\n",
    "    print(\"\\n\")\n",
    "    \n",
    "    # Imprimir información de la columna objetivo\n",
    "    print(\"Información de la Columna Objetivo:\")\n",
    "    if data_info['target_info']['type'] == 'numeric':\n",
    "        print(f\"Tipo: Numérico\")\n",
    "        print(f\"Rango: {data_info['target_info']['range']}\")\n",
    "    else:\n",
    "        print(f\"Tipo: Categórico\")\n",
    "        print(f\"Clases Únicas: {', '.join(data_info['target_info']['unique_classes'])}\")\n",
    "        print(\"Distribución de Clases:\")\n",
    "        for cls, count in data_info['target_info']['class_distribution'].items():\n",
    "            print(f\"{cls}: {count}\")\n",
    "    print(\"\\n\")\n",
    "\n",
    "print_data_info(data_info)"
   ]
  },
  {
   "cell_type": "markdown",
   "metadata": {},
   "source": [
    "## Parte 2: Declaracion de variables iniciales\n",
    "\n",
    "Aqui para trabajar de una forma mas sencilla empezamos a declarar las variables dependientes e independientes de nuestros datos, asi como la declaración del learning rate (alpha) y de nuestros hiperparametros iniciales. (thetas), de igual forma como estamos usando el metodo de gradiente descendiente declararemos el numero de iteraciones que se realizaran para el modelo."
   ]
  },
  {
   "cell_type": "code",
   "execution_count": 65,
   "metadata": {},
   "outputs": [],
   "source": [
    "# Variables independientes\n",
    "x = data[\"Temperature\"]\n",
    "# Variables dependientes\n",
    "y = data[\"Revenue\"]\n",
    "theta = [0, 0]\n",
    "alpha = 0.001\n",
    "num_iteraciones = 1000\n",
    "# Dividiendo los datos en entrenamiento y prueba\n",
    "# Mezcla tus datos\n",
    "data_shuffled = data.sample(frac=1, random_state=42)\n",
    "\n",
    "# Define el tamaño del conjunto de prueba\n",
    "test_size = 0.2 # Un 20% del total del tamaño del conjunto\n",
    "test_length = int(len(data) * test_size)\n",
    "\n",
    "# Divide los datos en conjuntos de entrenamiento y prueba\n",
    "test_data = data_shuffled.iloc[:test_length]\n",
    "train_data = data_shuffled.iloc[test_length:]\n",
    "# Asignar el tamaño del conjunto de prueba y de entrenamiento\n",
    "x_train = train_data[\"Temperature\"]\n",
    "y_train = train_data[\"Revenue\"]\n",
    "x_test = test_data[\"Temperature\"]\n",
    "y_test = test_data[\"Revenue\"]\n",
    "x_train = x_train.reset_index(drop=True)\n",
    "y_test = y_test.reset_index(drop=True)\n",
    "x_test = x_test.reset_index(drop=True)\n",
    "y_train = y_train.reset_index(drop=True)"
   ]
  },
  {
   "cell_type": "markdown",
   "metadata": {},
   "source": [
    "## Parte 3: Funciones para la regresión\n",
    "Aqui empezamos a declarar las funciones a utilizar en este problema, en este primer caso se requiere declarar lo siguiente\n",
    "### Funcion lambda\n",
    "Esta función definida como $h(x_i)=\\theta_0 + \\theta_1x_i$ nos ayudara a medir la relacion entre las variables a analizar, o sea estimar el valor para un dato dado $(𝑥_i)$\n",
    "\n"
   ]
  },
  {
   "cell_type": "code",
   "execution_count": 66,
   "metadata": {},
   "outputs": [],
   "source": [
    "# Función lambda para la función de hipótesis\n",
    "h = lambda theta, x: theta[0] + theta[1] * x"
   ]
  },
  {
   "cell_type": "markdown",
   "metadata": {},
   "source": [
    "## Parte 4: Calculos e iteraciones\n",
    "A partir de este punto se empezara a calcular a partir de iteraciones controladas por un ciclo for el valor de la derivada de la función de costo (Recordando que la formula de la función de costo es $J(\\theta) = \\frac{1}{2n} \\sum_{i=1}^{n} (h_\\theta(x^{(i)}) - y^{(i)})^2$), que se obtiene a partir de los datos estimados, $h_\\theta(x_i)$, y reales, $y_i$:\n",
    "\n",
    "$\\frac{∂J_{θ}}{∂θ_0} = \\frac{1}{n}\\sum_{i=1}^{n}(h_θ(x_i)-y_i)$\n",
    "\n",
    "$\\frac{∂J_{θ}}{∂θ_1} = \\frac{1}{n}\\sum_{i=1}^{n}(h_θ(x_i)-y_i)x_i$\n",
    "\n",
    "Ademas de actualizar el valor de los hiper-parámetros, recordando que $\\theta_j=\\theta_j-\\alpha \\frac{∂J_{θ}}{∂θ_j}$:"
   ]
  },
  {
   "cell_type": "code",
   "execution_count": 67,
   "metadata": {},
   "outputs": [],
   "source": [
    "# Creamos una función que nos ayudará con la regresión lineal\n",
    "def regresion_lineal(x, y, num_iteraciones, alpha, theta):\n",
    "    \"\"\"\n",
    "    Parámetros:\n",
    "    - x: lista de datos de entrada.\n",
    "    - y: lista de datos de salida.\n",
    "    - num_iteraciones: número de iteraciones para el descenso del gradiente.\n",
    "    - alpha: tasa de aprendizaje.\n",
    "    - theta: lista con los valores iniciales de theta.\n",
    "\n",
    "    Retorna:\n",
    "    - theta: lista con los valores actualizados de theta.\n",
    "    \"\"\"\n",
    "    # Calcular el total de muestras a partir de los datos (n)\n",
    "    n = len(x)\n",
    "    \n",
    "    for _ in range(num_iteraciones):\n",
    "        # Calcular delta para theta0 y para cada muestra\n",
    "        delta_theta0 = [h(theta, x[i]) - y[i] for i in range(n)]\n",
    "\n",
    "        # Calcular delta para theta1 y para cada muestra\n",
    "        delta_theta1 = [(h(theta, x[i]) - y[i]) * x[i] for i in range(n)]\n",
    "\n",
    "        # Calcular sumatorias y promedio\n",
    "        sum_delta_theta0 = sum(delta_theta0) / n\n",
    "        sum_delta_theta1 = sum(delta_theta1) / n\n",
    "\n",
    "        # Actualizar theta0 y theta1\n",
    "        theta[0] = theta[0] - alpha * sum_delta_theta0\n",
    "        theta[1] = theta[1] - alpha * sum_delta_theta1\n",
    "\n",
    "    return theta\n",
    "theta = regresion_lineal(x_train, y_train, num_iteraciones, alpha, theta)"
   ]
  },
  {
   "cell_type": "markdown",
   "metadata": {},
   "source": [
    "## Parte 5: Predicciones y visualización\n",
    "En esta parte y una vez realizado la regresion necesitamos ver algunas estimaciones para verificar que el modelo corre de manera correcta."
   ]
  },
  {
   "cell_type": "code",
   "execution_count": 68,
   "metadata": {},
   "outputs": [
    {
     "name": "stdout",
     "output_type": "stream",
     "text": [
      "Estimación 1 (12 C): 282.1389068734599 USD\n",
      "Estimación 2 (32 C): 742.1612830960079 USD\n"
     ]
    }
   ],
   "source": [
    "# Estimaciones\n",
    "estimacion_12 = h(theta, 12)\n",
    "estimacion_32 = h(theta, 32)\n",
    "\n",
    "print(f\"Estimación 1 (12 C): {estimacion_12} USD\")\n",
    "print(f\"Estimación 2 (32 C): {estimacion_32} USD\")\n"
   ]
  },
  {
   "cell_type": "markdown",
   "metadata": {},
   "source": [
    "Una vez obtenido ello, observamos como se comporta el modelo realizado respecto a los datos reales con graficos"
   ]
  },
  {
   "cell_type": "code",
   "execution_count": 69,
   "metadata": {},
   "outputs": [
    {
     "data": {
      "image/png": "[encoded data removed]",
      "text/plain": [
       "<Figure size 640x480 with 1 Axes>"
      ]
     },
     "metadata": {},
     "output_type": "display_data"
    }
   ],
   "source": [
    "# Si no esta instalado matplotlib favor de descomentar esta linea de codigo:\n",
    "# !pip install matplotlib\n",
    "\n",
    "import matplotlib.pyplot as plt\n",
    "\n",
    "# Gráfica de los datos\n",
    "plt.scatter(x, y, color='blue', label='Datos reales')\n",
    "# Gráfica de la regresión lineal\n",
    "plt.plot(x, h(theta, x), color='red', label='Regresión lineal')\n",
    "plt.xlabel('Temperatura')\n",
    "plt.ylabel('Ganancia de la venta del helado')\n",
    "plt.title('Regresión lineal con gradiente descendiente')\n",
    "plt.legend()\n",
    "plt.show()"
   ]
  },
  {
   "cell_type": "markdown",
   "metadata": {},
   "source": [
    "A partir de aqui incluimos las metricas para medir el desempeño del modelo"
   ]
  },
  {
   "cell_type": "code",
   "execution_count": 70,
   "metadata": {},
   "outputs": [
    {
     "name": "stdout",
     "output_type": "stream",
     "text": [
      "Error Cuadrático Medio (Entrenamiento): 815.9348110530303\n",
      "Error Cuadrático Medio (Prueba): 728.4228583405708\n",
      "El desempeño del modelo en el conjunto de prueba es adecuado.\n"
     ]
    }
   ],
   "source": [
    "# Función para calcular el Error Cuadrático Medio (MSE)\n",
    "def mse(y_real, y_pred):\n",
    "    return sum((y_real - y_pred) ** 2) / len(y_real)\n",
    "\n",
    "# Predicciones para el conjunto de entrenamiento y prueba\n",
    "y_train_pred = [h(theta_test, xi) for xi in x_train]\n",
    "y_test_pred = [h(theta_test, xi) for xi in x_test]\n",
    "\n",
    "# Calcular MSE para el conjunto de entrenamiento y prueba\n",
    "mse_train = mse(y_train, y_train_pred)\n",
    "mse_test = mse(y_test, y_test_pred)\n",
    "\n",
    "print(f\"Error Cuadrático Medio (Entrenamiento): {mse_train}\")\n",
    "print(f\"Error Cuadrático Medio (Prueba): {mse_test}\")\n",
    "\n",
    "# Evaluar el desempeño en el conjunto de prueba\n",
    "if mse_test <= mse_train:\n",
    "    print(\"El desempeño del modelo en el conjunto de prueba es adecuado.\")\n",
    "else:\n",
    "    print(\"El desempeño del modelo en el conjunto de prueba no es adecuado.\")\n"
   ]
  },
  {
   "cell_type": "markdown",
   "metadata": {},
   "source": [
    "* El MSE de entrenamiento es 815.93. Esto significa que, en promedio, las predicciones del modelo en el conjunto de entrenamiento se desvían en  815.93 unidades (en el contexto de este problema, ingresos en dólares) del valor real.\n",
    "* El MSE de prueba es 728.42, que es menor que el MSE de entrenamiento. Esto es una buena señal, ya que indica que el modelo no está sobreajustado a los datos de entrenamiento y generaliza bien a nuevos datos.\n",
    "* Dado que el MSE de prueba es menor o al menos comparable al MSE de entrenamiento, se concluye que el \"desempeño del modelo en el conjunto de prueba es adecuado\"."
   ]
  }
 ],
 "metadata": {
  "kernelspec": {
   "display_name": "Python 3",
   "language": "python",
   "name": "python3"
  },
  "language_info": {
   "codemirror_mode": {
    "name": "ipython",
    "version": 3
   },
   "file_extension": ".py",
   "mimetype": "text/x-python",
   "name": "python",
   "nbconvert_exporter": "python",
   "pygments_lexer": "ipython3",
   "version": "3.11.3"
  },
  "orig_nbformat": 4
 },
 "nbformat": 4,
 "nbformat_minor": 2
}
